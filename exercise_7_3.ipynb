{
 "cells": [
  {
   "cell_type": "code",
   "execution_count": 1,
   "id": "21aa6d26",
   "metadata": {},
   "outputs": [],
   "source": [
    "import numpy as np\n",
    "import matplotlib.pyplot as plt"
   ]
  },
  {
   "cell_type": "code",
   "execution_count": 33,
   "id": "40d76e9c",
   "metadata": {},
   "outputs": [],
   "source": [
    "bs = np.arange(1, 62)\n",
    "ppt_fn = np.pow(bs, 2)\n",
    "negligible_p = 1e-3\n",
    "zeros = np.zeros(len(bs)) + negligible_p\n",
    "p_collisions = np.ones(len(bs)) - np.exp(-np.pow(ppt_fn, 2) / np.pow(2, bs + 1))\n"
   ]
  },
  {
   "cell_type": "code",
   "execution_count": 34,
   "id": "cd691124",
   "metadata": {},
   "outputs": [
    {
     "name": "stdout",
     "output_type": "stream",
     "text": [
      "The size of the input (b) must be at least:  29\n"
     ]
    }
   ],
   "source": [
    "# np.where(p_collisions[p_collisions <= negligible_fn])\n",
    "print(\"The size of the input (b) must be at least: \",np.where(p_collisions <= zeros)[0][0]+1)\n",
    "# p_collisions[22]"
   ]
  }
 ],
 "metadata": {
  "kernelspec": {
   "display_name": "Homework1",
   "language": "python",
   "name": "python3"
  },
  "language_info": {
   "codemirror_mode": {
    "name": "ipython",
    "version": 3
   },
   "file_extension": ".py",
   "mimetype": "text/x-python",
   "name": "python",
   "nbconvert_exporter": "python",
   "pygments_lexer": "ipython3",
   "version": "3.12.2"
  }
 },
 "nbformat": 4,
 "nbformat_minor": 5
}
