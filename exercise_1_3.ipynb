{
  "cells": [
    {
      "cell_type": "code",
      "execution_count": null,
      "metadata": {
        "colab": {
          "base_uri": "https://localhost:8080/"
        },
        "id": "gSMHXTg0HRXH",
        "outputId": "a37e3660-8b73-4f2e-9477-99403c2937b4"
      },
      "outputs": [
        {
          "name": "stdout",
          "output_type": "stream",
          "text": [
            "01101100011011110111011001100101\n"
          ]
        }
      ],
      "source": [
        "# compute the ascii code of \"love\"\n",
        "love = \"love\"\n",
        "def to_binary(word):\n",
        "    binary = \"\"\n",
        "    for char in word:\n",
        "        binary += bin(ord(char))[2:].zfill(8)\n",
        "    return binary\n",
        "binary_love = to_binary(love)\n",
        "print(binary_love)"
      ]
    },
    {
      "cell_type": "code",
      "execution_count": null,
      "metadata": {
        "id": "td_BJNNcJFNd"
      },
      "outputs": [],
      "source": [
        "c_1 = \"11000111011000101101100000010010\"\n",
        "c_2 = \"11100111011000011100001000001110\""
      ]
    },
    {
      "cell_type": "code",
      "execution_count": null,
      "metadata": {
        "colab": {
          "base_uri": "https://localhost:8080/"
        },
        "id": "z9D1bVdMJKSw",
        "outputId": "40553dca-7a8d-48db-e763-a45d63e099f2"
      },
      "outputs": [
        {
          "data": {
            "text/plain": [
              "('«\\r®w', 'love')"
            ]
          },
          "execution_count": 21,
          "metadata": {},
          "output_type": "execute_result"
        }
      ],
      "source": [
        "\n",
        "def xor(a, b):\n",
        "    result = \"\"\n",
        "    for i in range(len(a)):\n",
        "        if a[i] == b[i]:\n",
        "            result += \"0\"\n",
        "        else:\n",
        "            result += \"1\"\n",
        "    return result\n",
        "\n",
        "def to_string(binary_str):\n",
        "    chunks = [binary_str[i:i + 8] for i in range(0, len(binary_str), 8)]\n",
        "\n",
        "    # Convert each chunk into an integer (ASCII code) and then to a character\n",
        "    characters = [chr(int(chunk, 2)) for chunk in chunks]\n",
        "\n",
        "    # Join the characters to form the word\n",
        "    word = \"\".join(characters)\n",
        "\n",
        "    return word\n",
        "\n",
        "\n",
        "key = xor(c_1, binary_love)\n",
        "to_string(key), to_string(binary_love)\n"
      ]
    },
    {
      "cell_type": "code",
      "execution_count": null,
      "metadata": {
        "colab": {
          "base_uri": "https://localhost:8080/",
          "height": 36
        },
        "id": "Tte5lEyALKsX",
        "outputId": "7ccb32f5-1eb2-4d0d-ebfb-228e47f31312"
      },
      "outputs": [
        {
          "data": {
            "application/vnd.google.colaboratory.intrinsic+json": {
              "type": "string"
            },
            "text/plain": [
              "'0110000101101100011010010110001101100101'"
            ]
          },
          "execution_count": 18,
          "metadata": {},
          "output_type": "execute_result"
        }
      ],
      "source": [
        "alice_bin = to_binary('alice')\n",
        "alice_bin"
      ]
    },
    {
      "cell_type": "code",
      "execution_count": null,
      "metadata": {
        "colab": {
          "base_uri": "https://localhost:8080/",
          "height": 36
        },
        "id": "crzq3WSTLKtu",
        "outputId": "1f42623b-2c08-4def-f81f-79c8ac4b9462"
      },
      "outputs": [
        {
          "data": {
            "application/vnd.google.colaboratory.intrinsic+json": {
              "type": "string"
            },
            "text/plain": [
              "'Llly'"
            ]
          },
          "execution_count": 22,
          "metadata": {},
          "output_type": "execute_result"
        }
      ],
      "source": [
        "girl = xor(key, c_2)\n",
        "to_string(girl)"
      ]
    },
    {
      "cell_type": "code",
      "execution_count": null,
      "metadata": {
        "id": "HLziNTisTtBZ"
      },
      "outputs": [],
      "source": []
    }
  ],
  "metadata": {
    "colab": {
      "provenance": [],
      "toc_visible": true
    },
    "kernelspec": {
      "display_name": "Python 3",
      "name": "python3"
    },
    "language_info": {
      "name": "python"
    }
  },
  "nbformat": 4,
  "nbformat_minor": 0
}
